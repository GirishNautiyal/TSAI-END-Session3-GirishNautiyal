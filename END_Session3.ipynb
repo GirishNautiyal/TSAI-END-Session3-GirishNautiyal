{
  "nbformat": 4,
  "nbformat_minor": 0,
  "metadata": {
    "colab": {
      "name": "END - Session3.ipynb",
      "provenance": []
    },
    "kernelspec": {
      "name": "python3",
      "display_name": "Python 3"
    }
  },
  "cells": [
    {
      "cell_type": "code",
      "metadata": {
        "id": "UjNuvAstT7qz"
      },
      "source": [
        "# Imports\n",
        "from functools import reduce, partial\n",
        "import math\n",
        "import operator\n",
        "import random\n",
        "import re\n",
        "from urllib.request import urlopen\n"
      ],
      "execution_count": 1,
      "outputs": []
    },
    {
      "cell_type": "code",
      "metadata": {
        "id": "hAfYDXybUEwU"
      },
      "source": [
        "# Q.1: Write a function using only list filter lambda that can tell whether a number is a Fibonacci \n",
        "#      number or not. You can use a pre-calculated list/dict to store fab numbers till 10000\n",
        "def fab_checker(num=int)->bool:\n",
        "    '''\n",
        "    This function checks if the number provided is a number in Fibonacci series\n",
        "    The input should be a positive integer less than 10,000. The function returns True or\n",
        "    False indicationg whether a the number provided is a number in Fibonacci series\n",
        "    '''\n",
        "    if num>10000:\n",
        "        raise ValueError(\"The function doesn't check for numbers above 10,000\")\n",
        "\n",
        "    fab = [0, 1, 1, 2, 3, 5, 8, 13, 21, 34, 55, 89, 144, 233, 377, 610, 987, 1597, 2584, 4181, 6765]\n",
        "    num_list=[num]\n",
        "    return bool((list(filter(lambda x: True if x in fab else False,num_list))))"
      ],
      "execution_count": 2,
      "outputs": []
    },
    {
      "cell_type": "code",
      "metadata": {
        "id": "OTXsTn95ULFn",
        "outputId": "108f4de4-061b-480c-9ece-c7940790db36",
        "colab": {
          "base_uri": "https://localhost:8080/"
        }
      },
      "source": [
        "fab_checker(8)"
      ],
      "execution_count": 3,
      "outputs": [
        {
          "output_type": "execute_result",
          "data": {
            "text/plain": [
              "True"
            ]
          },
          "metadata": {
            "tags": []
          },
          "execution_count": 3
        }
      ]
    },
    {
      "cell_type": "code",
      "metadata": {
        "id": "DdsIENELUPCF"
      },
      "source": [
        "# Q2.a. Using list comprehension (and zip/lambda/etc if required) write an expression that\n",
        "#       add 2 iterables a and b such that a is even and b is odd\n",
        "def add_iter_even_odd(in_list1 = list, in_list2 = list)->list:\n",
        "    '''\n",
        "    This function adds 2 iterables a and b such that a is even and b is odd\n",
        "    The input should be a list of numbers.\n",
        "    The function returns list with addition as per the above mentioned rule\n",
        "    '''\n",
        "    final_list = list(filter(None,[a+b if a%2==0 and b%2!=0 else 0 for a,b in zip(in_list1,in_list2)]))\n",
        "    return final_list"
      ],
      "execution_count": 4,
      "outputs": []
    },
    {
      "cell_type": "code",
      "metadata": {
        "id": "WUFY68AuUS0E",
        "outputId": "396e3b6c-008a-4c94-ca33-67647ba9e5ef",
        "colab": {
          "base_uri": "https://localhost:8080/"
        }
      },
      "source": [
        "a = [1,2,3]\n",
        "b = [4,5,6]\n",
        "add_iter_even_odd(a,b)"
      ],
      "execution_count": 5,
      "outputs": [
        {
          "output_type": "execute_result",
          "data": {
            "text/plain": [
              "[7]"
            ]
          },
          "metadata": {
            "tags": []
          },
          "execution_count": 5
        }
      ]
    },
    {
      "cell_type": "code",
      "metadata": {
        "id": "XCBG3_eAUeBD"
      },
      "source": [
        "# Q2.b. Using list comprehension (and zip/lambda/etc if required) write an expression that\n",
        "#       strips every vowel from a string provided (tsai>>t s)\n",
        "def vowel_remover(in_str = str)->str:\n",
        "    '''\n",
        "    This function strips every vowel from a string provided\n",
        "    The input should be any string.\n",
        "    The function returns string without any vowels\n",
        "    '''\n",
        "    if not isinstance(in_str,str):\n",
        "        raise TypeError(\"Only strings allowed as input\")\n",
        "\n",
        "    pure_list = [x for x in in_str if x not in ('a','e','i','o','u')]\n",
        "    return \" \".join(pure_list)"
      ],
      "execution_count": 6,
      "outputs": []
    },
    {
      "cell_type": "code",
      "metadata": {
        "id": "n37xSEitUgqo",
        "outputId": "347a6d4f-3ac4-429f-a21c-0a494e7be4ba",
        "colab": {
          "base_uri": "https://localhost:8080/",
          "height": 36
        }
      },
      "source": [
        "vowel_remover(\"abcdefghi\")"
      ],
      "execution_count": 7,
      "outputs": [
        {
          "output_type": "execute_result",
          "data": {
            "application/vnd.google.colaboratory.intrinsic+json": {
              "type": "string"
            },
            "text/plain": [
              "'b c d f g h'"
            ]
          },
          "metadata": {
            "tags": []
          },
          "execution_count": 7
        }
      ]
    },
    {
      "cell_type": "code",
      "metadata": {
        "id": "4b0saUFzUkrh"
      },
      "source": [
        "# Q2.c. Using list comprehension (and zip/lambda/etc if required) write an expression that\n",
        "#       acts like a ReLU function for a 1D array\n",
        "def relu(in_list = list)->list:\n",
        "    '''\n",
        "    This function that applies ReLU function to each elements of the provided list\n",
        "    The input should be a list of numbers.\n",
        "    The function returns list with ReLU output for each of the elements of the list\n",
        "    '''\n",
        "    final_list = [0 if x < 0 else x for x in in_list]\n",
        "    return final_list"
      ],
      "execution_count": 8,
      "outputs": []
    },
    {
      "cell_type": "code",
      "metadata": {
        "id": "Rf7Bnc-_Un1_",
        "outputId": "f67077ed-6c3f-4936-a7dc-8cd734260d31",
        "colab": {
          "base_uri": "https://localhost:8080/"
        }
      },
      "source": [
        "relu([1,2,-3,4,-5.5])"
      ],
      "execution_count": 9,
      "outputs": [
        {
          "output_type": "execute_result",
          "data": {
            "text/plain": [
              "[1, 2, 0, 4, 0]"
            ]
          },
          "metadata": {
            "tags": []
          },
          "execution_count": 9
        }
      ]
    },
    {
      "cell_type": "code",
      "metadata": {
        "id": "j1CNldePUpRQ"
      },
      "source": [
        "# Q2.d. Using list comprehension (and zip/lambda/etc if required) write an expression that\n",
        "#       acts like a Sigmoid function for a 1D array\n",
        "def sigmoid(in_list = list)->list:\n",
        "    '''\n",
        "    This function that applies Sigmoid function to each elements of the provided list\n",
        "    The input should be a list of numbers.\n",
        "    The function returns list with Sigmoid output for each of the elements of the list\n",
        "    '''\n",
        "    final_list = [round(1/(1+math.exp(-x)),2) for x in in_list]\n",
        "    return final_list"
      ],
      "execution_count": 10,
      "outputs": []
    },
    {
      "cell_type": "code",
      "metadata": {
        "id": "b6n0KAhtUv3p",
        "outputId": "ae3879dc-fade-4803-c68f-59790be1c4ac",
        "colab": {
          "base_uri": "https://localhost:8080/"
        }
      },
      "source": [
        "sigmoid([1,2,-3,4,-5.5])"
      ],
      "execution_count": 11,
      "outputs": [
        {
          "output_type": "execute_result",
          "data": {
            "text/plain": [
              "[0.73, 0.88, 0.05, 0.98, 0.0]"
            ]
          },
          "metadata": {
            "tags": []
          },
          "execution_count": 11
        }
      ]
    },
    {
      "cell_type": "code",
      "metadata": {
        "id": "6jkxPQKEU2Du"
      },
      "source": [
        "# Q2.d. Using list comprehension (and zip/lambda/etc if required) write an expression that\n",
        "#       takes a small character string and shifts all characters by 5 (handle boundary conditions)\n",
        "def char_shifter(in_str = str)->str:\n",
        "    '''\n",
        "    This function shifts all characters by 5 for a string provided\n",
        "    The input should be any string.\n",
        "    The function returns string with all characters shifted by 5\n",
        "    '''\n",
        "    if not isinstance(in_str,str):\n",
        "        raise TypeError(\"Only strings allowed as input\")\n",
        "\n",
        "    pure_list = [chr(ord(x)+5) if ord(x)<117 else chr(ord(x)-21) for x in in_str]\n",
        "    return \"\".join(pure_list)"
      ],
      "execution_count": 12,
      "outputs": []
    },
    {
      "cell_type": "code",
      "metadata": {
        "id": "Q4z9uOMsVOKD",
        "outputId": "cfeb14a8-636a-417a-86ab-549929572e30",
        "colab": {
          "base_uri": "https://localhost:8080/",
          "height": 36
        }
      },
      "source": [
        "char_shifter(\"abcdwxyz\")"
      ],
      "execution_count": 13,
      "outputs": [
        {
          "output_type": "execute_result",
          "data": {
            "application/vnd.google.colaboratory.intrinsic+json": {
              "type": "string"
            },
            "text/plain": [
              "'fghibcde'"
            ]
          },
          "metadata": {
            "tags": []
          },
          "execution_count": 13
        }
      ]
    },
    {
      "cell_type": "code",
      "metadata": {
        "id": "JRVrsywRVXrZ"
      },
      "source": [
        "# Q3 - A list comprehension expression that takes a ~200 word paragraph, and checks whether it has\n",
        "#      any of the swear words mentioned in 'resources/profane_words.txt'\n",
        "def profanity_checker(in_str = str)->str:\n",
        "    '''\n",
        "    This function checks checks whether it has any of the swear words mentioned\n",
        "    in 'resources/profane_words.txt'\n",
        "    The input should be any paragraph as a single string.\n",
        "    The function returns True or False indicationg whether there is profanity in the paragraph \n",
        "    '''\n",
        "    if not isinstance(in_str,str):\n",
        "        raise TypeError(\"Only strings allowed as input\")\n",
        "\n",
        "    str_list = re.split(r'[\\s,.!;]+', in_str)\n",
        "    url = \"https://raw.githubusercontent.com/RobertJGabriel/Google-profanity-words/master/list.txt\"\n",
        "    file = urlopen(url)\n",
        "    profane_data = [line.decode(\"utf-8\").strip(' ').split('\\n')[0] for line in file.readlines()]\n",
        "    return reduce(lambda a,b: bool(a) or bool(b),[True if x.lower() in profane_data else False for x in str_list])"
      ],
      "execution_count": 16,
      "outputs": []
    },
    {
      "cell_type": "code",
      "metadata": {
        "id": "0pbLkBZMWEq6",
        "outputId": "b9fd42eb-24bc-49e8-8ef2-ea7d9fbefca3",
        "colab": {
          "base_uri": "https://localhost:8080/"
        }
      },
      "source": [
        "test_string = '''\n",
        "Oh 5hit, there is something wrong with this paragraph.\n",
        "There are many methodologies that deal with the portion of CLV associated with direct purchases, but the two most broad classes are generally defined as historical and predictive CLV. Historical methods look at past data and make a judgment on the value of customers solely based on past transactions, without any attempt to predict what those customers will do next.\n",
        "In principle, this is a valid approach if the customers behave similarly and have been interacting with the company for roughly the same amount of time. However, there’s generally a fair amount of heterogeneity among customers. Typical historical approaches will apply a recency of last purchase criterion to distinguish between active and inactive users. Average past purchase behavior is employed to measure the relative (or in some cases, absolute) value of customers.\n",
        "However, there are several problems with such methodologies. For example, the first customer in the chart above has made more purchases than the second customer, but in fact, the first customer is more likely to be inactive than the second one. Value based on past averages would claim that the first customer is more valuable — yet the second customer is still active and could make many more purchases in the future. Methods that account for variation in the behavior of customers will allow us to arrive at more accurate conclusions about customer lifetime and purchase behavior.\n",
        "'''\n",
        "profanity_checker(test_string)"
      ],
      "execution_count": 17,
      "outputs": [
        {
          "output_type": "execute_result",
          "data": {
            "text/plain": [
              "True"
            ]
          },
          "metadata": {
            "tags": []
          },
          "execution_count": 17
        }
      ]
    },
    {
      "cell_type": "code",
      "metadata": {
        "id": "Vw_JHWRWVh3V"
      },
      "source": [
        "# Q4.a. Using reduce function - add only even numbers in a list\n",
        "def even_adder(in_list = list)->list:\n",
        "    '''\n",
        "    This function that adds only even numbers in the provided list\n",
        "    The input should be a list of numbers.\n",
        "    The function returns sum of even numbers in the provided list\n",
        "    '''\n",
        "    final_num = reduce(lambda a,b: a+b if a%2==0 and b%2==0 else (b if a%2!=0 and b%2==0 else (a if a%2==0 and b%2!=0 else 0)),in_list)\n",
        "    return final_num"
      ],
      "execution_count": 18,
      "outputs": []
    },
    {
      "cell_type": "code",
      "metadata": {
        "id": "NCVDgDi5YL72",
        "outputId": "84514c96-ebf0-447e-f165-657d109f47ef",
        "colab": {
          "base_uri": "https://localhost:8080/"
        }
      },
      "source": [
        "even_adder([1,2,3,4,5,6])"
      ],
      "execution_count": 19,
      "outputs": [
        {
          "output_type": "execute_result",
          "data": {
            "text/plain": [
              "12"
            ]
          },
          "metadata": {
            "tags": []
          },
          "execution_count": 19
        }
      ]
    },
    {
      "cell_type": "code",
      "metadata": {
        "id": "Ek8sQcsGYNQg"
      },
      "source": [
        "# Q4.b. Using reduce function - find the biggest character in a string (printable ascii characters)\n",
        "def biggest_character(in_str = str)->str:\n",
        "    '''\n",
        "    This function finds the biggest character in a string (printable ascii characters)\n",
        "    The input should be a string containing printable ascii characters.\n",
        "    The function returns the biggest character in the provided string\n",
        "    '''\n",
        "    if not isinstance(in_str,str):\n",
        "        raise TypeError(\"Only strings allowed as input\")\n",
        "\n",
        "    final_char = reduce(lambda a,b: a if ord(a)>ord(b) else b,in_str)\n",
        "    return final_char"
      ],
      "execution_count": 20,
      "outputs": []
    },
    {
      "cell_type": "code",
      "metadata": {
        "id": "GE5kkPAwYQd5",
        "outputId": "940b81a5-6bff-4c9e-c665-e203c572a9bb",
        "colab": {
          "base_uri": "https://localhost:8080/",
          "height": 36
        }
      },
      "source": [
        "biggest_character(\"abcd!ABCD|\")"
      ],
      "execution_count": 21,
      "outputs": [
        {
          "output_type": "execute_result",
          "data": {
            "application/vnd.google.colaboratory.intrinsic+json": {
              "type": "string"
            },
            "text/plain": [
              "'|'"
            ]
          },
          "metadata": {
            "tags": []
          },
          "execution_count": 21
        }
      ]
    },
    {
      "cell_type": "code",
      "metadata": {
        "id": "66bOPCStYUnv"
      },
      "source": [
        "# Q4.c. Using reduce function - adds every 3rd number in a list\n",
        "def alt_adder(in_list = list)->list:\n",
        "    '''\n",
        "    This function that adds every 3rd number in the provided list\n",
        "    The input should be a list of numbers.\n",
        "    The function returns sum of every 3rd number in the provided list\n",
        "    '''\n",
        "    final_num = reduce(lambda a,b: a if in_list.index(b)%2!=0 else a+b,in_list)\n",
        "    return final_num"
      ],
      "execution_count": 22,
      "outputs": []
    },
    {
      "cell_type": "code",
      "metadata": {
        "id": "r_PpaoZ1YXge",
        "outputId": "8ddc0847-9ea1-4144-82bd-db6c2d28aa13",
        "colab": {
          "base_uri": "https://localhost:8080/"
        }
      },
      "source": [
        "alt_adder([1,2,3,4,5,6])"
      ],
      "execution_count": 23,
      "outputs": [
        {
          "output_type": "execute_result",
          "data": {
            "text/plain": [
              "9"
            ]
          },
          "metadata": {
            "tags": []
          },
          "execution_count": 23
        }
      ]
    },
    {
      "cell_type": "code",
      "metadata": {
        "id": "5IbAhIlfYYCs"
      },
      "source": [
        "# Q5. Using randint, random.choice and list comprehensions, write an expression that \n",
        "#     generates 15 random KADDAADDDD number plates, where KA is fixed, D stands for a digit\n",
        "#     and A stands for Capital alphabets. 10<<DD<<99 & 1000<<DDDD<<9999\n",
        "def num_plate_generator()->list:\n",
        "    '''\n",
        "    This function that generates 15 random number plates starting with KA (for Karnataka)\n",
        "    The function doesn't take any input\n",
        "    The function returns list of 15 random number plates starting with KA\n",
        "    '''\n",
        "    num = ['KA' + str(a) + str(b1) + str(b2) + str(c) for a,b1,b2,c in zip(random.sample(list(range(10,100)),15),\n",
        "                                                                random.sample(list(map(chr,(range(65,91)))),15),\n",
        "                                                                random.sample(list(map(chr,(range(65,91)))),15),\n",
        "                                                                random.sample(list(range(1000,10000)),15))]\n",
        "    return num"
      ],
      "execution_count": 24,
      "outputs": []
    },
    {
      "cell_type": "code",
      "metadata": {
        "id": "-Rmwjl8hYgeG",
        "outputId": "ea39381a-7346-44a0-b55c-bba6d3359af8",
        "colab": {
          "base_uri": "https://localhost:8080/"
        }
      },
      "source": [
        "num_plate_generator()"
      ],
      "execution_count": 25,
      "outputs": [
        {
          "output_type": "execute_result",
          "data": {
            "text/plain": [
              "['KA11CM4062',\n",
              " 'KA80TH8627',\n",
              " 'KA17WT9760',\n",
              " 'KA35SN5179',\n",
              " 'KA62EZ6371',\n",
              " 'KA32QO8276',\n",
              " 'KA75OG4950',\n",
              " 'KA10VL6638',\n",
              " 'KA73FK9330',\n",
              " 'KA71AB4086',\n",
              " 'KA78MU7832',\n",
              " 'KA60YQ3949',\n",
              " 'KA15ID9680',\n",
              " 'KA38BY2676',\n",
              " 'KA92PP3791']"
            ]
          },
          "metadata": {
            "tags": []
          },
          "execution_count": 25
        }
      ]
    },
    {
      "cell_type": "code",
      "metadata": {
        "id": "YmL_agEdYimk"
      },
      "source": [
        "# Q6.a. Write the above again from scratch where KA can be changed to DL\n",
        "#       and 1000/9999 ranges can be provided.\n",
        "def num_plate_generator_2(num_start=int,num_end=int,state_code=str)->list:\n",
        "    '''\n",
        "    This function that generates 15 random number plates for the state code provided\n",
        "    and the vehicle number between the range provided\n",
        "    The function takes 3 inputs:\n",
        "        num_start: The least number allowed as vehicle number\n",
        "        num_end: The highest number allowed as vehicle number\n",
        "        state_code: Code of the state for which the number plate is to be generated\n",
        "    The function returns list of 15 random number plates based on the inputs\n",
        "    '''\n",
        "    if not isinstance(num_start,int):\n",
        "        raise TypeError(\"Only integeres allowed as minimum number\")\n",
        "\n",
        "    if not isinstance(num_end,int):\n",
        "        raise TypeError(\"Only integeres allowed as maximum number\")\n",
        "\n",
        "    if not isinstance(state_code,str):\n",
        "        raise TypeError(\"Only strings allowed as input\")\n",
        "\n",
        "    if state_code not in ['AN','AP','AR','AS','BR','CG','CH','DD','DL','GA','GJ','HP','HR','JH','JK','KA','KL','LA','LD','MH','ML','MN','MP','MZ','NL','OD','PB','PY','RJ','SK','TN','TR','TS','UK','UP','WB']:\n",
        "        raise ValueError(\"Only following State codes are allowed: AN, AP, AR, AS, BR, CG, CH, DD, DL, GA, GJ, HP, HR, JH, JK, KA, KL, LA, LD, MH, ML, MN, MP, MZ, NL, OD, PB, PY, RJ, SK, TN, TR, TS, UK, UP, WB\")\n",
        "\n",
        "    if len(state_code)!=2:\n",
        "        raise ValueError(\"State code must have only 2 characters\")\n",
        "\n",
        "    num = [state_code + str(a) + str(b1) + str(b2) + str(c) for a,b1,b2,c in zip(random.sample(list(range(10,100)),15),\n",
        "                                                                random.sample(list(map(chr,(range(65,91)))),15),\n",
        "                                                                random.sample(list(map(chr,(range(65,91)))),15),\n",
        "                                                                random.sample(list(range(num_start,num_end+1)),15))]\n",
        "    return num"
      ],
      "execution_count": 26,
      "outputs": []
    },
    {
      "cell_type": "code",
      "metadata": {
        "id": "P-NEhTEkYqAl",
        "outputId": "109aabe5-5bce-46ce-bcda-3ac2ccd489f2",
        "colab": {
          "base_uri": "https://localhost:8080/"
        }
      },
      "source": [
        "num_plate_generator_2(2500,3500,'DL')"
      ],
      "execution_count": 27,
      "outputs": [
        {
          "output_type": "execute_result",
          "data": {
            "text/plain": [
              "['DL93MK2720',\n",
              " 'DL72ZH2611',\n",
              " 'DL80RX3198',\n",
              " 'DL67YG3240',\n",
              " 'DL41DJ2914',\n",
              " 'DL78PU2997',\n",
              " 'DL53AI3328',\n",
              " 'DL23QP3431',\n",
              " 'DL70IA2678',\n",
              " 'DL42XO3450',\n",
              " 'DL10UE3055',\n",
              " 'DL13SY2794',\n",
              " 'DL39BF3008',\n",
              " 'DL57OM2547',\n",
              " 'DL74VD2522']"
            ]
          },
          "metadata": {
            "tags": []
          },
          "execution_count": 27
        }
      ]
    },
    {
      "cell_type": "code",
      "metadata": {
        "id": "bJpxQxhOyyW8"
      },
      "source": [
        ""
      ],
      "execution_count": null,
      "outputs": []
    }
  ]
}